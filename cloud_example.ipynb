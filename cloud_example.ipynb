{
 "cells": [
  {
   "cell_type": "code",
   "execution_count": 1,
   "metadata": {},
   "outputs": [],
   "source": [
    "import numpy as np"
   ]
  },
  {
   "cell_type": "code",
   "execution_count": 2,
   "metadata": {},
   "outputs": [
    {
     "name": "stdout",
     "output_type": "stream",
     "text": [
      "[[False  True]\n",
      " [False  True]]\n",
      "1.25\n"
     ]
    }
   ],
   "source": [
    "from optimization_problems import CloudStorageScheduling, Volume, Pool\n",
    "from greedy_algorithms import simpleGreedy, powerGreedy\n",
    "\n",
    "volumes = [\n",
    "    Volume(1, 2, 3),\n",
    "    Volume(4, 5, 6)\n",
    "]\n",
    "\n",
    "pools = [\n",
    "    Pool(7, 8, 9),\n",
    "    Pool(10, 11, 12)\n",
    "]\n",
    "\n",
    "opt = CloudStorageScheduling(volumes, pools, [1, 1, 1])\n",
    "X = opt.getSpace()\n",
    "\n",
    "solution = np.array([\n",
    "    [True, False],\n",
    "    [False, False]\n",
    "])\n",
    "\n",
    "sg = simpleGreedy(opt, X)\n",
    "print(sg)\n",
    "print(opt.f(sg, add_volumes=False))\n",
    "\n",
    "pg = powerGreedy(opt, X)"
   ]
  },
  {
   "cell_type": "code",
   "execution_count": null,
   "metadata": {},
   "outputs": [],
   "source": []
  }
 ],
 "metadata": {
  "kernelspec": {
   "display_name": "Python 3",
   "language": "python",
   "name": "python3"
  },
  "language_info": {
   "codemirror_mode": {
    "name": "ipython",
    "version": 3
   },
   "file_extension": ".py",
   "mimetype": "text/x-python",
   "name": "python",
   "nbconvert_exporter": "python",
   "pygments_lexer": "ipython3",
   "version": "3.10.6"
  },
  "orig_nbformat": 4
 },
 "nbformat": 4,
 "nbformat_minor": 2
}
